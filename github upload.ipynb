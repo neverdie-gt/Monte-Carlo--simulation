{
 "cells": [
  {
   "cell_type": "code",
   "execution_count": 1,
   "metadata": {},
   "outputs": [
    {
     "data": {
      "application/vnd.jupyter.widget-view+json": {
       "model_id": "37917c9d5f9d4ef8bb9e894be0116c44",
       "version_major": 2,
       "version_minor": 0
      },
      "text/plain": [
       "interactive(children=(IntSlider(value=25, description='frame', max=50), Output()), _dom_classes=('widget-inter…"
      ]
     },
     "metadata": {},
     "output_type": "display_data"
    },
    {
     "data": {
      "text/plain": [
       "<function __main__.display_ising_sequence.<locals>._show(frame=(0, 50))>"
      ]
     },
     "execution_count": 1,
     "metadata": {},
     "output_type": "execute_result"
    }
   ],
   "source": [
    "import numpy as np\n",
    "def random_spin_field(N,M):\n",
    "    return np.random.choice([-1,1], size=(N,M))\n",
    "random_spin_field(10,10)\n",
    "# 랜덤으로 스핀의 방향에 따라 1,-1이 선택되는 행렬을 만드는 함수를 지정한다.\n",
    "\n",
    "from PIL import Image\n",
    "\n",
    "def display_spin_field(field):\n",
    "    return Image.fromarray(np.uint8((field+1)*0.5*255)) #0 ... 255\n",
    "display_spin_field(random_spin_field(200,200))\n",
    "# 위의 행렬을 가시화해서 보여줄수 있도록 해주는 위젯인 pillow를 불러오고 바꿔주는 함수를 정의한다.\n",
    "\n",
    "def ising_step(field, beta=0.4):#여기서 beta는 1/Kb*T을 의미한다.\n",
    "    N, M=field.shape\n",
    "    for n_offset in range(2):\n",
    "        for m_offset in range(2):\n",
    "            for n in range(n_offset, N, 2):\n",
    "                for m in range(m_offset, M, 2):\n",
    "                    _ising_update(field, n, m, beta)\n",
    "    return field\n",
    "# (N,M) 행렬을 쭉 도는데 순서대로 도는것이 아니라 랜덤적으로 선택하기위해 offset요소를 넣어서 for문을 만든다.\n",
    "# 이부분이 스핀을 조정하는 칸을 선택하는 부\n",
    "\n",
    "def _ising_update(field, n, m, beta):\n",
    "    total=0\n",
    "    N, M = field.shape\n",
    "    for i in range(n-1, n+2):\n",
    "        for j in range(m-1, m+2):\n",
    "            if i == n and j == m:\n",
    "                continue\n",
    "            total += field[i % N, j % M]\n",
    "    dE = field[n, m]*total\n",
    "    if dE <= 0:\n",
    "        field[n, m] *= -1\n",
    "    elif np.exp(-dE * beta) > np.random.rand():\n",
    "        field[n, m] *= -1\n",
    "\n",
    "#몬테 카를로 시뮬레이션 방법으로 metropolis algorithm을 사용하여 선택한 부분의 주변의 스핀을 전부 더하고 자신의 스핀과 곱한 값을 dE로 놓자.\n",
    "#그리고 dE가 0보다 작거나, 같다면 현재 스핀에 -1을 곱하여 스핀을 바꿔주고, 만약 그렇지 않은 경우에서도 확률 exp(-dE * beta)에 해당한다면 역시\n",
    "#자신의 스핀에 -1 을 곱하여 스핀을 바꿔준다.\n",
    "\n",
    "from ipywidgets import interact\n",
    "\n",
    "def display_ising_sequence(image):\n",
    "    def _show(frame=(0, len(images)-1)):\n",
    "        return display_spin_field(images[frame])\n",
    "    return interact(_show)\n",
    "\n",
    "#파이썬에서 제공하는 위젯에서 ipywidgets에서 interact를 불어온다.\n",
    "#그리고 위에서 정의한 함수들이 여러 이미지로 연속적으로 나타날수 있도록 위젯함수를 정의해준다.\n",
    "\n",
    "images = [random_spin_field(200,200)]\n",
    "for i in range(50):\n",
    "    images.append(ising_step(images[-1].copy()))\n",
    "display_ising_sequence(images)\n",
    "\n",
    "#마침내 우리가 만들 2D의 사이즈를 결정하여 {(200,200)으로 하였다.} 위엣 설정한 위젯함수를 50번 진행하도록 돌리면 순서대로 드래그하여 \n",
    "#아이징 모델이 변화하는것을 볼수 있다."
   ]
  },
  {
   "cell_type": "code",
   "execution_count": null,
   "metadata": {},
   "outputs": [],
   "source": []
  }
 ],
 "metadata": {
  "kernelspec": {
   "display_name": "Python 3",
   "language": "python",
   "name": "python3"
  },
  "language_info": {
   "codemirror_mode": {
    "name": "ipython",
    "version": 3
   },
   "file_extension": ".py",
   "mimetype": "text/x-python",
   "name": "python",
   "nbconvert_exporter": "python",
   "pygments_lexer": "ipython3",
   "version": "3.7.1"
  }
 },
 "nbformat": 4,
 "nbformat_minor": 2
}
